{
 "cells": [
  {
   "cell_type": "markdown",
   "metadata": {},
   "source": [
    "<h1 style=\"text-align: center; color: purple;\" markdown=\"1\">Econ 320 Lab Assignment 4 </h1>\n",
    "<h2 style=\"text-align: center; color: purple;\" markdown=\"1\">Name: Yifeng Wu </h2>"
   ]
  },
  {
   "cell_type": "markdown",
   "metadata": {},
   "source": [
    "# Labor markets and returns to schooling\n",
    "For this problem you will use the dataset supplied via Canvas, filename: “Card_Returns.dta”, which is taken from Card, David (1995) “Using Geographic Variation in College Proximity to Estimate the Returns to Schooling,\" in Aspects of Labour Market Behavior: Essays in Honour of John Vanderkamp, ed. L. H. Christophides, E. K. Grand, and R. Swidinsky. Toronto: University of Toronto Press: 201-222. The data measure a variety of characteristics of individuals and include data on the proximity of two- and four-year colleges.\n",
    "\n",
    "Familiarize yourself with the data based on the accompanying PDF of Card’s working paper. Note where the data are originally from, what kind of sampling was involved, and the units of observation.\n",
    "\n",
    "Pay particular attention to the following variables and ensure you know what they measure and in what units: wage, educ, exper, exper2. You may have to infer the units of measurement from the variable distributions. \n",
    "\n",
    "For your writeup, present a table that shows sample means, standard deviations, and minimum/maximum values for the wage, educ, exper variables (call this Table 1). In a note to this table, say how many observations are in the dataset and how many variables there are. Also present a scatter plot of wage by education in a way you think makes sense. Call this Figure 5.\n",
    "\n",
    "Run the following regressions:\n",
    "\n",
    "Specification 1: $ln⁡(wage)=\\beta_0+\\beta_1 (educ)+u_i$ \n",
    "\n",
    "Specification 2: $ln⁡(wage)=\\beta_0+\\beta_1 (educ)+\\beta_2 (exper)+u_i$\n",
    "\n",
    "Specification 3: $ln⁡(wage)=\\beta_0+\\beta_1 (educ)+\\beta_2 (exper)+\\beta_3 (expersq)+u_i$\n",
    "\n",
    "Specification 4: $ln⁡(wage)=\\beta_0+\\beta_1 (educ)+ \\beta_2 (exper)+ \\beta_3 (expersq)+\\beta_4 (married)+u_i$\n",
    "\n",
    "Specification 5: $ln⁡(wage)=\\beta_0+\\beta_1 (educ)+ \\beta_2 (exper)+ \\beta_3 (expersq)+\\beta_4 (married)+\\beta_5(black)+u_i$ \n",
    "\n",
    "* For the married variable show two different ways of creating a dummy variable to incorporate in your regression. \n",
    "\n",
    "* Present a regression output table (Table 2). Below the set of tables, provide discussion of the parameter estimates for Specification 5 (interpret the fitted values for $\\beta_0$,$\\beta_1$,$\\beta_2$,$\\beta_3$,$\\beta_4$,$\\beta_5$). Comment on any major changes you see between Specification 5 and Specification 2.\n",
    "\n",
    "* When a worker gains one more year of experience, by how much is the wage expected to increase, on average? Discuss differences in the parameter estimates in specifications 2 and 3. (Hint: Take the derivative of each with respect to experience.)\n",
    "\n",
    "* State the first two algebraic properties of the OLS estimator. Verify that these properties hold in Specification 1 and Specification 5. *(Hint: You will be able to do this by predicting the residuals into the data, and then using the “sum” function on the variables.)*\n",
    "\n"
   ]
  },
  {
   "cell_type": "markdown",
   "metadata": {},
   "source": [
    "* Package Setup"
   ]
  },
  {
   "cell_type": "code",
   "execution_count": 1,
   "metadata": {},
   "outputs": [],
   "source": [
    "import scipy.stats as stats\n",
    "from stargazer.stargazer import Stargazer\n",
    "from IPython.core.display import HTML\n",
    "import wooldridge as woo\n",
    "import numpy as np \n",
    "import pandas as pd\n",
    "import matplotlib.pyplot as plt \n",
    "import seaborn as sns\n",
    "import statsmodels.api as sm\n",
    "import statsmodels.formula.api as smf"
   ]
  },
  {
   "cell_type": "markdown",
   "metadata": {},
   "source": []
  },
  {
   "cell_type": "markdown",
   "metadata": {},
   "source": [
    "* Table that shows sample means, standard deviations, and minimum/maximum values for the wage, educ, exper variables (call this Table 1)."
   ]
  },
  {
   "cell_type": "code",
   "execution_count": 2,
   "metadata": {},
   "outputs": [
    {
     "data": {
      "text/html": [
       "<div>\n",
       "<style scoped>\n",
       "    .dataframe tbody tr th:only-of-type {\n",
       "        vertical-align: middle;\n",
       "    }\n",
       "\n",
       "    .dataframe tbody tr th {\n",
       "        vertical-align: top;\n",
       "    }\n",
       "\n",
       "    .dataframe thead th {\n",
       "        text-align: right;\n",
       "    }\n",
       "</style>\n",
       "<table border=\"1\" class=\"dataframe\">\n",
       "  <thead>\n",
       "    <tr style=\"text-align: right;\">\n",
       "      <th></th>\n",
       "      <th>wage</th>\n",
       "      <th>educ</th>\n",
       "      <th>exper</th>\n",
       "    </tr>\n",
       "  </thead>\n",
       "  <tbody>\n",
       "    <tr>\n",
       "      <th>mean</th>\n",
       "      <td>577.282392</td>\n",
       "      <td>13.263455</td>\n",
       "      <td>8.856146</td>\n",
       "    </tr>\n",
       "    <tr>\n",
       "      <th>std</th>\n",
       "      <td>262.958302</td>\n",
       "      <td>2.676913</td>\n",
       "      <td>4.141672</td>\n",
       "    </tr>\n",
       "    <tr>\n",
       "      <th>min</th>\n",
       "      <td>100.000000</td>\n",
       "      <td>1.000000</td>\n",
       "      <td>0.000000</td>\n",
       "    </tr>\n",
       "    <tr>\n",
       "      <th>max</th>\n",
       "      <td>2404.000000</td>\n",
       "      <td>18.000000</td>\n",
       "      <td>23.000000</td>\n",
       "    </tr>\n",
       "  </tbody>\n",
       "</table>\n",
       "</div>"
      ],
      "text/plain": [
       "             wage       educ      exper\n",
       "mean   577.282392  13.263455   8.856146\n",
       "std    262.958302   2.676913   4.141672\n",
       "min    100.000000   1.000000   0.000000\n",
       "max   2404.000000  18.000000  23.000000"
      ]
     },
     "execution_count": 2,
     "metadata": {},
     "output_type": "execute_result"
    }
   ],
   "source": [
    "data = pd.read_stata('/Users/yifeng/Downloads/card.dta')\n",
    "Table_1 = data[['wage', 'educ', 'exper']].agg(['mean', 'std', 'min', 'max'])\n",
    "Table_1\n"
   ]
  },
  {
   "cell_type": "markdown",
   "metadata": {},
   "source": [
    "* The dataset has 3010 observations and 34 variables."
   ]
  },
  {
   "cell_type": "code",
   "execution_count": 3,
   "metadata": {},
   "outputs": [
    {
     "data": {
      "text/plain": [
       "(3010, 34)"
      ]
     },
     "execution_count": 3,
     "metadata": {},
     "output_type": "execute_result"
    }
   ],
   "source": [
    "data.shape"
   ]
  },
  {
   "cell_type": "code",
   "execution_count": 4,
   "metadata": {},
   "outputs": [
    {
     "data": {
      "image/png": "[encoded data removed]",
      "text/plain": [
       "<Figure size 432x288 with 1 Axes>"
      ]
     },
     "metadata": {
      "needs_background": "light"
     },
     "output_type": "display_data"
    }
   ],
   "source": [
    "Figure5 = data.plot.scatter(x='educ', y='wage', s=5, title='Figure5')"
   ]
  },
  {
   "cell_type": "markdown",
   "metadata": {},
   "source": [
    "* Run the followng regressions"
   ]
  },
  {
   "cell_type": "code",
   "execution_count": 5,
   "metadata": {},
   "outputs": [],
   "source": [
    "# set each regression\n",
    "s1 = smf.ols(formula = 'np.log(wage) ~ educ', data = data).fit()\n",
    "s2 = smf.ols(formula = 'np.log(wage) ~ educ + exper', data = data).fit()\n",
    "s3 = smf.ols(formula = 'np.log(wage) ~ educ + exper + expersq', data = data).fit()\n",
    "s4 = smf.ols(formula = 'np.log(wage) ~ educ + exper + expersq + married', data = data).fit()\n",
    "s5 = smf.ols(formula = 'np.log(wage) ~ educ + exper + expersq + married + black', data = data).fit()"
   ]
  },
  {
   "cell_type": "markdown",
   "metadata": {},
   "source": [
    "* For the married variable show two different ways of creating a dummy variable to incorporate in your regression. \n",
    "\n"
   ]
  },
  {
   "cell_type": "code",
   "execution_count": 6,
   "metadata": {},
   "outputs": [],
   "source": [
    "#Method 1: incorporate I(formula) into the regression\n",
    "s4 = smf.ols(formula = 'np.log(wage) ~ educ + exper + expersq + I(married ==1)', data = data).fit()\n",
    "s5 = smf.ols(formula = 'np.log(wage) ~ educ + exper + expersq + I(married == 1) + black', data = data).fit()\n",
    "\n",
    "\n",
    "\n",
    "#Method 2: create new variable\n",
    "data['ismarried'] = (data['married']==1)\n",
    "s4 = smf.ols(formula = 'np.log(wage) ~ educ + exper + expersq + ismarried', data = data).fit()\n",
    "s5 = s5 = smf.ols(formula = 'np.log(wage) ~ educ + exper + expersq + ismarried + black', data = data).fit()"
   ]
  },
  {
   "cell_type": "markdown",
   "metadata": {},
   "source": [
    "* Present a regression output table (Table 2). Below the set of tables, provide discussion of the parameter estimates for Specification 5 (interpret the fitted values for $\\beta_0$,$\\beta_1$,$\\beta_2$,$\\beta_3$,$\\beta_4$,$\\beta_5$). Comment on any major changes you see between Specification 5 and Specification 2."
   ]
  },
  {
   "cell_type": "code",
   "execution_count": 7,
   "metadata": {},
   "outputs": [
    {
     "data": {
      "text/html": [
       "Regression on Wages<br><table style=\"text-align:center\"><tr><td colspan=\"6\" style=\"border-bottom: 1px solid black\"></td></tr><tr><td style=\"text-align:left\"></td><td colspan=\"5\"><em>Dependent variable:np.log(wage)</em></td></tr><tr><td style=\"text-align:left\"></td><tr><td style=\"text-align:left\"></td><td>(1)</td><td>(2)</td><td>(3)</td><td>(4)</td><td>(5)</td></tr><tr><td colspan=\"6\" style=\"border-bottom: 1px solid black\"></td></tr><tr><td style=\"text-align:left\">I(married == 1)[T.True]</td><td></td><td></td><td></td><td>0.151<sup>***</sup></td><td>0.124<sup>***</sup></td></tr><tr><td style=\"text-align:left\"></td><td></td><td></td><td></td><td>(0.016)</td><td>(0.016)</td></tr><tr><td style=\"text-align:left\">Intercept</td><td>5.571<sup>***</sup></td><td>4.666<sup>***</sup></td><td>4.469<sup>***</sup></td><td>4.468<sup>***</sup></td><td>4.670<sup>***</sup></td></tr><tr><td style=\"text-align:left\"></td><td>(0.039)</td><td>(0.064)</td><td>(0.069)</td><td>(0.068)</td><td>(0.068)</td></tr><tr><td style=\"text-align:left\">black</td><td></td><td></td><td></td><td></td><td>-0.214<sup>***</sup></td></tr><tr><td style=\"text-align:left\"></td><td></td><td></td><td></td><td></td><td>(0.017)</td></tr><tr><td style=\"text-align:left\">educ</td><td>0.052<sup>***</sup></td><td>0.093<sup>***</sup></td><td>0.093<sup>***</sup></td><td>0.090<sup>***</sup></td><td>0.080<sup>***</sup></td></tr><tr><td style=\"text-align:left\"></td><td>(0.003)</td><td>(0.004)</td><td>(0.004)</td><td>(0.004)</td><td>(0.004)</td></tr><tr><td style=\"text-align:left\">exper</td><td></td><td>0.041<sup>***</sup></td><td>0.090<sup>***</sup></td><td>0.079<sup>***</sup></td><td>0.080<sup>***</sup></td></tr><tr><td style=\"text-align:left\"></td><td></td><td>(0.002)</td><td>(0.007)</td><td>(0.007)</td><td>(0.007)</td></tr><tr><td style=\"text-align:left\">expersq</td><td></td><td></td><td>-0.002<sup>***</sup></td><td>-0.002<sup>***</sup></td><td>-0.002<sup>***</sup></td></tr><tr><td style=\"text-align:left\"></td><td></td><td></td><td>(0.000)</td><td>(0.000)</td><td>(0.000)</td></tr><td colspan=\"6\" style=\"border-bottom: 1px solid black\"></td></tr><tr><td style=\"text-align: left\">Observations</td><td>3,010</td><td>3,010</td><td>3,010</td><td>3,010</td><td>3,010</td></tr><tr><td style=\"text-align: left\">R<sup>2</sup></td><td>0.099</td><td>0.181</td><td>0.196</td><td>0.218</td><td>0.256</td></tr><tr><td style=\"text-align: left\">Adjusted R<sup>2</sup></td><td>0.098</td><td>0.181</td><td>0.195</td><td>0.217</td><td>0.255</td></tr><tr><td style=\"text-align: left\">Residual Std. Error</td><td>0.421 (df=3008)</td><td>0.402 (df=3007)</td><td>0.398 (df=3006)</td><td>0.393 (df=3005)</td><td>0.383 (df=3004)</td></tr><tr><td style=\"text-align: left\">F Statistic</td><td>329.537<sup>***</sup> (df=1; 3008)</td><td>332.998<sup>***</sup> (df=2; 3007)</td><td>243.986<sup>***</sup> (df=3; 3006)</td><td>209.635<sup>***</sup> (df=4; 3005)</td><td>206.766<sup>***</sup> (df=5; 3004)</td></tr><tr><td colspan=\"6\" style=\"border-bottom: 1px solid black\"></td></tr><tr><td style=\"text-align: left\">Note:</td>\n",
       " <td colspan=\"5\" style=\"text-align: right\">\n",
       "  <sup>*</sup>p&lt;0.1;\n",
       "  <sup>**</sup>p&lt;0.05;\n",
       "  <sup>***</sup>p&lt;0.01\n",
       " </td></tr></table>"
      ],
      "text/plain": [
       "<IPython.core.display.HTML object>"
      ]
     },
     "execution_count": 7,
     "metadata": {},
     "output_type": "execute_result"
    }
   ],
   "source": [
    "s1 = smf.ols(formula = 'np.log(wage) ~ educ', data = data).fit()\n",
    "s2 = smf.ols(formula = 'np.log(wage) ~ educ + exper', data = data).fit()\n",
    "s3 = smf.ols(formula = 'np.log(wage) ~ educ + exper + expersq', data = data).fit()\n",
    "s4 = smf.ols(formula = 'np.log(wage) ~ educ + exper + expersq + I(married==1)', data = data).fit()\n",
    "s5 = smf.ols(formula = 'np.log(wage) ~ educ + exper + expersq + I(married==1) + black', data = data).fit()\n",
    "\n",
    "Table2 = Stargazer([s1, s2, s3, s4, s5])\n",
    "Table2.title('Regression on Wages')\n",
    "\n",
    "HTML(Table2.render_html())"
   ]
  },
  {
   "cell_type": "markdown",
   "metadata": {},
   "source": [
    "* Ans: \n",
    "* $\\beta_0$: The intercept denotes the wage you get if all other parameters equal to zero(zero years of eduction, zero years of experience,single, non-black)\n",
    "\n",
    "* $\\beta_1$: the expected percentage increase in wage if a worker gains one or more years of education, while all other parameters being equal. For example, in specification5, a worker is expected to have 8% increase in wage if he/she gains one more year of education.\n",
    "\n",
    "* $\\beta_2$:the expected percentage increase in wage if a worker gains one or more years of work experience, while all other parameters being equal. For example, in specification5, a worker is expected to have 8% increase in wage if he/she gains one more year of work experience.\n",
    "\n",
    "* $\\beta_3$: the estimator of the square of experience, which stands for the quadratic relationship between work experience and the wage. When we take derivative of the parameter with respect to experience, it becomes -0.004experience, meaning that the wage increases at a decreasing rate of 0.4% when workers get one extra year of work experience. \n",
    "\n",
    "* $\\beta_4$:the aproximate difference in wage between 'single' and 'married', which is 0.124, meaning that the wage of the married is expected to be 12.4% higher than that of single.   \n",
    "\n",
    "* $\\beta_5$:the aproximate difference in wage between 'black' and 'nonblack', which is -0.214, meaning that the wage of the black is expected to be 21.4% lower than that ofnonblack.   \n",
    "\n",
    "* Major Change: Specification5 has more regressors('black', 'married', 'expersq) than specification2. Therefore, s5 is able to better predict the change of wage than s2 and have higher amount of expained variance(0.256 > 0.181) and lower residual errors(0.383 < 0.402). Also, the estimators of regressors('educ' and 'exper') in s5 are smaller than those of s2. This might be resulted from the fact that the newly added independetn variables are somewhat correlated to the existing variables and therefore change their coefficients. "
   ]
  },
  {
   "cell_type": "markdown",
   "metadata": {},
   "source": [
    "* When a worker gains one more year of experience, by how much is the wage expected to increase, on average? Discuss differences in the parameter estimates in specifications 2 and 3. (Hint: Take the derivative of each with respect to experience.)"
   ]
  },
  {
   "cell_type": "markdown",
   "metadata": {},
   "source": [
    "* Ans: in specification 2, when a worker hains one more year of experience, the wage is expected to on average increase 4.1%, 9.0%, 7.9%, 8.0%, in s2, s3, s4, s5, respectively. Specification 3 has one more regressor expersq. With this new regressor, we do not interpret the exper variable in isolation. By taking the derivative of each parameter with respect to experience, we can tell that the differences occur in the parameters exper and expersq. (specification2 = 0.041. specification3 = 0.090 - 0.004exper). Solving the derivative equation gives you the turning point of the relationship between experience and wage. That is, as experience grows, people have higher wage at a decreasing rate and at some point, the wage does not grow and start to fall (possibly retirement). "
   ]
  },
  {
   "cell_type": "markdown",
   "metadata": {},
   "source": [
    "* State the first two algebraic properties of the OLS estimator. Verify that these properties hold in Specification 1 and Specification 5. *(Hint: You will be able to do this by predicting the residuals into the data, and then using the “sum” function on the variables.)*"
   ]
  },
  {
   "cell_type": "markdown",
   "metadata": {},
   "source": [
    "* Ans:\n",
    "* Property 1: the sum of OLS residuals is zero\n",
    "* Property 2: the sample covariance between the regressor and the OLS residuals is zero"
   ]
  },
  {
   "cell_type": "code",
   "execution_count": 8,
   "metadata": {},
   "outputs": [
    {
     "name": "stdout",
     "output_type": "stream",
     "text": [
      "\n",
      " Specification 1 Property 1 for s1 -2.6616930881573353e-11\n",
      "\n",
      " Specification 1 Property 2 for s1 -3.942659532185644e-10\n",
      "\n",
      " Specification 5 Property 1 for s5 8.358611580661091e-10\n",
      "\n",
      " Specification 5 Property 2 for s5 [9.868358574749436e-09, 1.0290932550560683e-08, 1.408534444635734e-07, 6.482991921075154e-10, 2.3565505102851603e-10]\n"
     ]
    }
   ],
   "source": [
    "#Model 1 Property 1\n",
    "s1_p1 = s1.resid.sum()\n",
    "print('\\n Specification 1 Property 1 for s1', s1_p1)\n",
    "\n",
    "#Model 1 Property 2\n",
    "#covar = s1.resid.cov(data['educ'])\n",
    "covar = (s1.resid * data['educ']).sum()\n",
    "print('\\n Specification 1 Property 2 for s1', covar)\n",
    "\n",
    "#Model 5 Property 1\n",
    "s5_p1 = s5.resid.sum()\n",
    "print('\\n Specification 5 Property 1 for s5', s5_p1)\n",
    "\n",
    "#Model 5 Property 2\n",
    "covar_list = []\n",
    "variables = ['educ', 'exper', 'expersq', 'ismarried', 'black']\n",
    "for var in variables:\n",
    "    covar = (s5.resid * data[var]).sum()\n",
    "    covar_list.append(covar)\n",
    "\n",
    "print('\\n Specification 5 Property 2 for s5', covar_list)\n"
   ]
  },
  {
   "cell_type": "markdown",
   "metadata": {},
   "source": [
    "* Based on the results above, the sum of residuals and the sample covariance for s1 and s5 are all very small numbers. The differences between the sum and zero can be ignored, and therefore the properties are verified. \n",
    "\n"
   ]
  },
  {
   "cell_type": "code",
   "execution_count": 9,
   "metadata": {},
   "outputs": [
    {
     "name": "stdout",
     "output_type": "stream",
     "text": [
      "[NbConvertApp] Converting notebook Assignment4F22.ipynb to html\n",
      "[NbConvertApp] Writing 586134 bytes to Assignment4F22.html\n"
     ]
    }
   ],
   "source": [
    "!jupyter nbconvert --to html Assignment4F22.ipynb"
   ]
  }
 ],
 "metadata": {
  "kernelspec": {
   "display_name": "Python 3 (ipykernel)",
   "language": "python",
   "name": "python3"
  },
  "language_info": {
   "codemirror_mode": {
    "name": "ipython",
    "version": 3
   },
   "file_extension": ".py",
   "mimetype": "text/x-python",
   "name": "python",
   "nbconvert_exporter": "python",
   "pygments_lexer": "ipython3",
   "version": "3.9.7"
  },
  "vscode": {
   "interpreter": {
    "hash": "8554a3936f0b466d8c1a61d3b0247baa55577fbe9ea0b6dbff7f2ea427caff97"
   }
  }
 },
 "nbformat": 4,
 "nbformat_minor": 2
}
